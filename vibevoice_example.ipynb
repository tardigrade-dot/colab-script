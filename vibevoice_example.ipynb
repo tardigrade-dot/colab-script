{
  "cells": [
    {
      "cell_type": "markdown",
      "metadata": {
        "id": "view-in-github",
        "colab_type": "text"
      },
      "source": [
        "<a href=\"https://colab.research.google.com/github/tardigrade-dot/colab-script/blob/main/vibevoice_example.ipynb\" target=\"_parent\"><img src=\"https://colab.research.google.com/assets/colab-badge.svg\" alt=\"Open In Colab\"/></a>"
      ]
    },
    {
      "cell_type": "code",
      "execution_count": 1,
      "id": "6cd6d135",
      "metadata": {
        "id": "6cd6d135",
        "outputId": "62729d93-4746-4ed3-d15d-8921da70fa10",
        "colab": {
          "base_uri": "https://localhost:8080/"
        }
      },
      "outputs": [
        {
          "output_type": "stream",
          "name": "stdout",
          "text": [
            "Cloning into 'VibeVoice'...\n",
            "remote: Enumerating objects: 629, done.\u001b[K\n",
            "remote: Counting objects: 100% (130/130), done.\u001b[K\n",
            "remote: Compressing objects: 100% (39/39), done.\u001b[K\n",
            "remote: Total 629 (delta 115), reused 91 (delta 91), pack-reused 499 (from 2)\u001b[K\n",
            "Receiving objects: 100% (629/629), 39.11 MiB | 22.65 MiB/s, done.\n",
            "Resolving deltas: 100% (365/365), done.\n"
          ]
        }
      ],
      "source": [
        "!git clone https://github.com/vibevoice-community/VibeVoice"
      ]
    },
    {
      "cell_type": "code",
      "execution_count": 2,
      "id": "49514db5",
      "metadata": {
        "id": "49514db5",
        "outputId": "d0ab398b-e635-463f-963c-3092954c93a6",
        "colab": {
          "base_uri": "https://localhost:8080/"
        }
      },
      "outputs": [
        {
          "output_type": "stream",
          "name": "stdout",
          "text": [
            "Collecting modelscope\n",
            "  Downloading modelscope-1.30.0-py3-none-any.whl.metadata (40 kB)\n",
            "\u001b[2K     \u001b[90m━━━━━━━━━━━━━━━━━━━━━━━━━━━━━━━━━━━━━━━━\u001b[0m \u001b[32m40.4/40.4 kB\u001b[0m \u001b[31m2.1 MB/s\u001b[0m eta \u001b[36m0:00:00\u001b[0m\n",
            "\u001b[?25hRequirement already satisfied: filelock in /usr/local/lib/python3.12/dist-packages (from modelscope) (3.19.1)\n",
            "Requirement already satisfied: requests>=2.25 in /usr/local/lib/python3.12/dist-packages (from modelscope) (2.32.4)\n",
            "Requirement already satisfied: setuptools in /usr/local/lib/python3.12/dist-packages (from modelscope) (75.2.0)\n",
            "Requirement already satisfied: tqdm>=4.64.0 in /usr/local/lib/python3.12/dist-packages (from modelscope) (4.67.1)\n",
            "Requirement already satisfied: urllib3>=1.26 in /usr/local/lib/python3.12/dist-packages (from modelscope) (2.5.0)\n",
            "Requirement already satisfied: charset_normalizer<4,>=2 in /usr/local/lib/python3.12/dist-packages (from requests>=2.25->modelscope) (3.4.3)\n",
            "Requirement already satisfied: idna<4,>=2.5 in /usr/local/lib/python3.12/dist-packages (from requests>=2.25->modelscope) (3.10)\n",
            "Requirement already satisfied: certifi>=2017.4.17 in /usr/local/lib/python3.12/dist-packages (from requests>=2.25->modelscope) (2025.8.3)\n",
            "Downloading modelscope-1.30.0-py3-none-any.whl (5.9 MB)\n",
            "\u001b[2K   \u001b[90m━━━━━━━━━━━━━━━━━━━━━━━━━━━━━━━━━━━━━━━━\u001b[0m \u001b[32m5.9/5.9 MB\u001b[0m \u001b[31m51.0 MB/s\u001b[0m eta \u001b[36m0:00:00\u001b[0m\n",
            "\u001b[?25hInstalling collected packages: modelscope\n",
            "Successfully installed modelscope-1.30.0\n"
          ]
        }
      ],
      "source": [
        "!pip install modelscope"
      ]
    },
    {
      "cell_type": "code",
      "source": [
        "from google.colab import drive\n",
        "drive.mount('/content/drive')"
      ],
      "metadata": {
        "id": "RYXUMcdTzCsV",
        "outputId": "0713fa22-b1bf-42a4-eb79-34ba654a99b2",
        "colab": {
          "base_uri": "https://localhost:8080/"
        }
      },
      "id": "RYXUMcdTzCsV",
      "execution_count": 3,
      "outputs": [
        {
          "output_type": "stream",
          "name": "stdout",
          "text": [
            "Mounted at /content/drive\n"
          ]
        }
      ]
    },
    {
      "cell_type": "code",
      "execution_count": null,
      "id": "0ab1bbe0",
      "metadata": {
        "id": "0ab1bbe0"
      },
      "outputs": [],
      "source": [
        "from modelscope import snapshot_download\n",
        "\n",
        "snapshot_download('microsoft/VibeVoice-1.5B', local_dir='pretrained_models/VibeVoice-1.5B')\n",
        "\n",
        "# snapshot_download('microsoft/VibeVoice-7B', local_dir='pretrained_models/VibeVoice-7B')"
      ]
    },
    {
      "cell_type": "code",
      "execution_count": 4,
      "id": "1157ed1f",
      "metadata": {
        "id": "1157ed1f",
        "outputId": "bb05457d-f75d-4818-9599-d9757260f571",
        "colab": {
          "base_uri": "https://localhost:8080/"
        }
      },
      "outputs": [
        {
          "output_type": "stream",
          "name": "stdout",
          "text": [
            "/content/VibeVoice\n"
          ]
        }
      ],
      "source": [
        "import os\n",
        "os.getcwd()\n",
        "os.chdir(\"/content/VibeVoice\")\n",
        "print(os.getcwd())"
      ]
    },
    {
      "cell_type": "code",
      "execution_count": 5,
      "id": "64ad967d",
      "metadata": {
        "id": "64ad967d"
      },
      "outputs": [],
      "source": [
        "!uv pip --quiet install --system -e /content/VibeVoice"
      ]
    },
    {
      "cell_type": "code",
      "execution_count": null,
      "id": "51da39a1",
      "metadata": {
        "id": "51da39a1"
      },
      "outputs": [],
      "source": [
        "from vibevoice.modular.modeling_vibevoice_inference import VibeVoiceForConditionalGenerationInference\n",
        "from vibevoice.processor.vibevoice_processor import VibeVoiceProcessor\n",
        "import torch\n",
        "from transformers.utils import logging\n",
        "import re\n",
        "import os\n",
        "from pathlib import Path\n",
        "\n",
        "logging.set_verbosity_info()\n",
        "logger = logging.get_logger(__name__)\n",
        "\n",
        "model_path = \"pretrained_models/VibeVoice-1.5B\"\n",
        "# model_path = \"pretrained_models/VibeVoice-7B\"\n",
        "\n",
        "speaker_phi0 = \"/content/drive/MyDrive/zh-phi0_woman.WAV\"\n",
        "input_file = \"/content/drive/MyDrive/1p_tiyan-others.txt\"\n",
        "output_dir = \"/content/drive/MyDrive\"\n",
        "\n",
        "max_length_def = 3000\n",
        "# 保持你的字符替换映射不变\n",
        "char_rep_map = {\n",
        "    \"：\": \",\",\n",
        "    \"；\": \",\",\n",
        "    \";\": \",\",\n",
        "    \"，\": \",\",\n",
        "    \"。\": \".\",\n",
        "    \"！\": \"!\",\n",
        "    \"？\": \"?\",\n",
        "    # \"\\n\": \" \",\n",
        "    \"·\": \"-\",\n",
        "    \"、\": \",\",\n",
        "    \"...\": \"…\",\n",
        "    \",,,\": \"…\",\n",
        "    \"，，，\": \"…\",\n",
        "    \"……\": \"…\",\n",
        "    \"“\": \"'\",\n",
        "    \"”\": \"'\",\n",
        "    '\"': \"'\",\n",
        "    \"‘\": \"'\",\n",
        "    \"’\": \"'\",\n",
        "    \"（\": \"'\",\n",
        "    \"）\": \"'\",\n",
        "    \"(\": \"'\",\n",
        "    \")\": \"'\",\n",
        "    \"《\": \"'\",\n",
        "    \"》\": \"'\",\n",
        "    \"【\": \"'\",\n",
        "    \"】\": \"'\",\n",
        "    \"[\": \"'\",\n",
        "    \"]\": \"'\",\n",
        "    \"—\": \"-\",\n",
        "    \"～\": \"-\",\n",
        "    \"~\": \"-\",\n",
        "    \"「\": \"'\",\n",
        "    \"」\": \"'\",\n",
        "    # \":\": \",\",\n",
        "    \"〇\": \"零\",\n",
        "    \"○\": \"零\",\n",
        "}\n",
        "\n",
        "def replace_chars(full_script, char_rep_map):\n",
        "    result = ''\n",
        "    for char in full_script:\n",
        "        result += char_rep_map.get(char, char)\n",
        "    return result\n",
        "\n",
        "def combine_to_max_length(combined_sentences: list, max_length: int = 400):\n",
        "    \"\"\"\n",
        "    Combines a list of sentences into new strings that do not exceed a maximum length.\n",
        "\n",
        "    Args:\n",
        "        combined_sentences: A list of string sentences.\n",
        "        max_length: The maximum character length for each combined string.\n",
        "\n",
        "    Returns:\n",
        "        A list of combined strings.\n",
        "    \"\"\"\n",
        "    if not combined_sentences:\n",
        "        return []\n",
        "\n",
        "    result_list = []\n",
        "    current_string = \"\"\n",
        "\n",
        "    for sentence in combined_sentences:\n",
        "        if len(sentence) > max_length:\n",
        "            logger.warning(f\"Warning: A single sentence exceeds the max_length ({len(sentence)} > {max_length}). It will be added as a separate item.\")\n",
        "            result_list.append(sentence)\n",
        "            continue\n",
        "\n",
        "        # Check if adding the new sentence exceeds the max length\n",
        "        # We add 1 for the space separator\n",
        "        if len(current_string) + len(sentence) + 1 <= max_length:\n",
        "            # If the current string is not empty, add a space\n",
        "            if current_string:\n",
        "                current_string += \"#\" + sentence\n",
        "            else:\n",
        "                current_string = sentence\n",
        "        else:\n",
        "            # If it would exceed, finalize the current string and start a new one\n",
        "            result_list.append(current_string)\n",
        "            current_string = sentence\n",
        "\n",
        "    # Add the last combined string if it's not empty\n",
        "    if current_string:\n",
        "        result_list.append(current_string)\n",
        "\n",
        "    return result_list\n",
        "\n",
        "def process_line(s_line: str):\n",
        "    s_line = replace_chars(s_line, char_rep_map)\n",
        "    # 修正：更新re.split的正则表达式，以包含所有可能的分隔符\n",
        "    # 你的 char_rep_map 中把\"？\"和\"！\"转换成了英文问号和感叹号，所以保留它们\n",
        "    # 同时，它也把\"。\"转换成了\".\"，所以也保留\n",
        "    # 还需要添加中文的“。！？”，以防转换不完全\n",
        "    sentences = re.split('([?!.？！])', s_line)\n",
        "\n",
        "    # re.split 的一种更简洁的替代方案是 re.findall(r'[^?!.]+[?!.]', s_line)\n",
        "    # 但你目前的代码逻辑是可行的，只是下面需要重新拼接\n",
        "\n",
        "    sentences_with_punct = [s for s in sentences if s]\n",
        "    temp_str = \"\"\n",
        "    combined_sentences = []\n",
        "    for s in sentences_with_punct:\n",
        "        s = s.replace(\"\\n\", \"\")\n",
        "        if not s:\n",
        "            continue\n",
        "        # 你的 char_rep_map 只将部分中文标点转换为英文\n",
        "        # 修正：这里需要同时检查中文和英文标点\n",
        "        if s in ['?', '!', '.', '？', '！', '。']:\n",
        "            temp_str += s\n",
        "            combined_sentences.append(temp_str)\n",
        "            temp_str = \"\"\n",
        "        else:\n",
        "            if temp_str:\n",
        "                combined_sentences.append(temp_str)\n",
        "            temp_str = s\n",
        "\n",
        "    if temp_str:\n",
        "        combined_sentences.append(temp_str)\n",
        "\n",
        "    return combined_sentences\n",
        "\n",
        "def gererator_speech(to_tts_txt,\n",
        "                     voice_samples=[speaker_phi0],\n",
        "                     output_index=0):\n",
        "\n",
        "\n",
        "    device=\"mps\" if torch.mps.is_available() else \"cuda\" if torch.cuda.is_available() else \"cpu\"\n",
        "    print(f\"use device[{device}]\")\n",
        "\n",
        "    processor = VibeVoiceProcessor.from_pretrained(model_path)\n",
        "    model = VibeVoiceForConditionalGenerationInference.from_pretrained(\n",
        "            model_path,\n",
        "            # torch_dtype=torch.bfloat16,\n",
        "            device_map=device,)\n",
        "    model.eval()\n",
        "\n",
        "    model.set_ddpm_inference_steps(num_steps=10)\n",
        "    for _index, _line in enumerate(to_tts_txt):\n",
        "        _index += 1\n",
        "\n",
        "        output_path_wav = f\"{output_dir}/output/xuese-{output_index}_{_index}.wav\"\n",
        "        output_path_txt = f\"{output_dir}/output/xuese-{output_index}_{_index}.txt\"\n",
        "\n",
        "        print(f'processing index[{_index}]')\n",
        "        if not os.path.exists(output_path_txt):\n",
        "\n",
        "            output_path_txt = Path(f\"{output_dir}/output/1p_tiyan-{output_index}_{_index}.txt\")\n",
        "            # Create the parent directory\n",
        "            output_path_txt.parent.mkdir(parents=True, exist_ok=True)\n",
        "            # Write to the file\n",
        "            output_path_txt.write_text(_line.replace(\"#\", \"\"), encoding='utf-8')\n",
        "\n",
        "        if not os.path.exists(output_path_wav):\n",
        "            new_txt_list = [\"Speaker 1: \" + item for item in _line.split(\"#\")]\n",
        "\n",
        "            inputs = processor(\n",
        "                text=[\"\\n\".join(new_txt_list)],  # Wrap in list for batch processing\n",
        "                voice_samples=[voice_samples],  # Wrap in list for batch processing\n",
        "                padding=True,\n",
        "                return_tensors=\"pt\",\n",
        "                return_attention_mask=True,\n",
        "            )\n",
        "\n",
        "            outputs = model.generate(\n",
        "                **inputs,\n",
        "                max_new_tokens=None,\n",
        "                cfg_scale=1.3,\n",
        "                tokenizer=processor.tokenizer,\n",
        "                # generation_config={'do_sample': True, 'temperature': 0.99, 'top_p': 0.99, 'top_k': 3},\n",
        "                generation_config={'do_sample': False},\n",
        "                verbose=True,\n",
        "                max_length_times=3, #default 2\n",
        "            )\n",
        "\n",
        "            processor.save_audio(\n",
        "                outputs.speech_outputs[0],  # First (and only) batch item\n",
        "                output_path=output_path_wav,\n",
        "            )\n",
        "            print(f'finish process ouput file : {output_path_wav}')\n",
        "\n",
        "def main():\n",
        "    input_txt = input_file\n",
        "    line_index = 0\n",
        "    with open(input_txt, 'r') as f:\n",
        "        line = f.readline()\n",
        "        if line:\n",
        "            to_tts_txt = combine_to_max_length(process_line(line), max_length=max_length_def)\n",
        "            gererator_speech(to_tts_txt, output_index=line_index)\n",
        "        line_index = line_index + 1\n",
        "\n",
        "\n",
        "def test_input_example():\n",
        "    str_hello = \"\"\"you text\"\"\".replace('\\n', '')\n",
        "    gererator_speech([str_hello], output_index=1)\n",
        "\n",
        "if __name__ == \"__main__\":\n",
        "    main()\n",
        "    # test_input_example()"
      ]
    }
  ],
  "metadata": {
    "kernelspec": {
      "display_name": "vv311",
      "language": "python",
      "name": "python3"
    },
    "language_info": {
      "name": "python",
      "version": "3.11.13"
    },
    "colab": {
      "provenance": [],
      "include_colab_link": true
    }
  },
  "nbformat": 4,
  "nbformat_minor": 5
}